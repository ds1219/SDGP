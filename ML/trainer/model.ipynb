{
 "cells": [
  {
   "cell_type": "code",
   "execution_count": null,
   "metadata": {},
   "outputs": [],
   "source": []
  }
 ],
 "metadata": {
  "kernelspec": {
   "display_name": "Python 3",
   "language": "python",
   "name": "python3"
  },
  "language_info": {
   "name": "python",
   "version": "3.11.2"
  },
  "orig_nbformat": 4,
  "vscode": {
   "interpreter": {
    "hash": "2883ded8965f65a5edfdd698106d3d68324d16f8309fdddb3cce769c15d0ffa1"
   }
  }
 },
 "nbformat": 4,
 "nbformat_minor": 2
}
